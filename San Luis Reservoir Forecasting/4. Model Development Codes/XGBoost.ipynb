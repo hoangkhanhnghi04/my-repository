{
  "nbformat": 4,
  "nbformat_minor": 0,
  "metadata": {
    "colab": {
      "name": "XGBoost.ipynb",
      "provenance": [],
      "collapsed_sections": []
    },
    "kernelspec": {
      "name": "python3",
      "display_name": "Python 3"
    },
    "language_info": {
      "name": "python"
    }
  },
  "cells": [
    {
      "cell_type": "code",
      "execution_count": null,
      "metadata": {
        "id": "ocxlLhRzSUdC"
      },
      "outputs": [],
      "source": [
        "from google.colab import drive\n",
        "import sqlite3\n",
        "import os\n",
        "\n",
        "import pandas as pd\n",
        "import numpy as np\n",
        "import matplotlib.pyplot as plt\n",
        "\n",
        "from sklearn.preprocessing import StandardScaler"
      ]
    },
    {
      "cell_type": "code",
      "source": [
        "drive.mount('/content/drive')\n",
        "\n",
        "!ls \"/content/drive/MyDrive/Data 270 project/Data/\""
      ],
      "metadata": {
        "id": "to61S2hPSdZH"
      },
      "execution_count": null,
      "outputs": []
    },
    {
      "cell_type": "code",
      "source": [
        "data =pd.read_csv('/content/drive/MyDrive/Data 270 project/Data/NORMALIZED_TABLE.csv')\n",
        "df = pd.DataFrame(data)\n"
      ],
      "metadata": {
        "id": "gwpIOMbnSpnh"
      },
      "execution_count": null,
      "outputs": []
    },
    {
      "cell_type": "code",
      "source": [
        "date = df[\"DATE\"]"
      ],
      "metadata": {
        "id": "tEeqecpnNNl5"
      },
      "execution_count": null,
      "outputs": []
    },
    {
      "cell_type": "code",
      "source": [
        "df = df.drop(columns=['DATE'])"
      ],
      "metadata": {
        "id": "dAbmfvbKNR3C"
      },
      "execution_count": null,
      "outputs": []
    },
    {
      "cell_type": "code",
      "source": [
        "df.columns"
      ],
      "metadata": {
        "id": "7RcEHjhmSyMh"
      },
      "execution_count": null,
      "outputs": []
    },
    {
      "cell_type": "code",
      "source": [
        "features=(df.columns[:-1])\n",
        "# Separating out the features\n",
        "x = df.loc[:, features].values\n",
        "# Separating out the target\n",
        "y = df.loc[:,['storage']].values\n",
        "x = StandardScaler().fit_transform(x)"
      ],
      "metadata": {
        "id": "K2PrIoymS1Q_"
      },
      "execution_count": null,
      "outputs": []
    },
    {
      "cell_type": "code",
      "source": [
        "from sklearn.decomposition import PCA\n",
        "pca = PCA(n_components=8)\n",
        "principalComponents = pca.fit_transform(x)\n",
        "principalDf = pd.DataFrame(data = principalComponents\n",
        "             , columns = ['principal component 1', 'principal component 2','principal component 3','principal component 4','principal component 5','principal component 6','principal component 7','principal component 8'])"
      ],
      "metadata": {
        "id": "OcQQ_64kS4m-"
      },
      "execution_count": null,
      "outputs": []
    },
    {
      "cell_type": "code",
      "source": [
        "sum(pca.explained_variance_ratio_)"
      ],
      "metadata": {
        "id": "vAhSJXQmS6a_"
      },
      "execution_count": null,
      "outputs": []
    },
    {
      "cell_type": "code",
      "source": [
        "finalDf = pd.concat([principalDf, df[['storage']]], axis = 1)"
      ],
      "metadata": {
        "id": "XYTgA3L7S8Cv"
      },
      "execution_count": null,
      "outputs": []
    },
    {
      "cell_type": "code",
      "source": [
        "finalDf"
      ],
      "metadata": {
        "id": "UyM8no0cS9R4"
      },
      "execution_count": null,
      "outputs": []
    },
    {
      "cell_type": "code",
      "source": [
        "import xgboost as xgb\n",
        "from sklearn.metrics import mean_squared_error\n",
        "X = df.iloc[:,0:(len(df.columns)-1)].values\n",
        "y = df.iloc[:,-1].values\n",
        "data_dmatrix = xgb.DMatrix(data=X,label=y)"
      ],
      "metadata": {
        "id": "ET9c_lhMcT0E"
      },
      "execution_count": null,
      "outputs": []
    },
    {
      "cell_type": "code",
      "source": [
        "df"
      ],
      "metadata": {
        "id": "gjd9gA-bcwVO"
      },
      "execution_count": null,
      "outputs": []
    },
    {
      "cell_type": "code",
      "source": [
        "X"
      ],
      "metadata": {
        "id": "kTMq_xHUczA_"
      },
      "execution_count": null,
      "outputs": []
    },
    {
      "cell_type": "code",
      "source": [
        "'''import xgboost as xgb\n",
        "from sklearn.metrics import mean_squared_error\n",
        "X = finalDf.iloc[:,0:(len(finalDf.columns)-1)].values\n",
        "y = finalDf.iloc[:,-1].values\n",
        "data_dmatrix = xgb.DMatrix(data=X,label=y)'''"
      ],
      "metadata": {
        "id": "TGtG1y81cWJS"
      },
      "execution_count": null,
      "outputs": []
    },
    {
      "cell_type": "code",
      "source": [
        "import random \n",
        "from sklearn.model_selection import train_test_split\n",
        "from sklearn.model_selection import cross_val_score, KFold\n",
        "from sklearn.model_selection import RepeatedKFold\n",
        "# set aside 20% of train and test data for evaluation\n",
        "random.seed(13)\n",
        "X_train, X_test, y_train, y_test = train_test_split(X, y, test_size=0.2, shuffle = True)\n",
        "\n",
        "print(\"X_train shape: {}\".format(X_train.shape))\n",
        "print(\"X_test shape: {}\".format(X_test.shape))\n",
        "print(\"y_train shape: {}\".format(y_train.shape))\n",
        "print(\"y_test shape: {}\".format(y_test.shape))"
      ],
      "metadata": {
        "id": "vwMFrwuvK9St"
      },
      "execution_count": null,
      "outputs": []
    },
    {
      "cell_type": "code",
      "source": [
        "import xgboost as xgb\n",
        "xg_reg = xgb.XGBRegressor(n_estimators=100,max_depth=4,learning_rate=0.1,subsample=0.5, verbosity=0)\n",
        "xg_reg.fit(X_train,y_train)\n",
        "\n",
        "#xg_reg = xgb.XGBRegressor( colsample_bytree=0.5, max_depth=3, learning_rate=0.1, n_estimators=500, subsample=0.5, objective='reg:linear', booster='gbtree',verbosity=0)\n",
        "#gamma = 5,subsample=0.5,learning_rate=0.1,max_depth=3,reg_alpha=1, reg_lambda=1,\n",
        "\n",
        "#R2 or coefficient of determination\n",
        "train_score = xg_reg.score(X_train,y_train)  \n",
        "print(\"Training score: \", train_score)\n",
        "\n",
        "#validation\n",
        "kfold = KFold(n_splits=10, shuffle=True)\n",
        "kf_cv_scores = cross_val_score(xg_reg, X_train, y_train, cv=kfold )\n",
        "print(\"K-fold CV average training score: \" + str(kf_cv_scores.mean()))\n",
        "\n",
        "#validation\n",
        "kfold_repeat = RepeatedKFold(n_splits=10, n_repeats=3, random_state=1)\n",
        "kf_repeat_cv_scores = cross_val_score(xg_reg, X_train, y_train, cv=kfold_repeat )\n",
        "print(\"K-fold Repeating average training score:\" + str(kf_repeat_cv_scores.mean()))\n",
        "\n",
        "\n",
        "preds = xg_reg.predict(X_test)\n",
        "train_score1 = xg_reg.score(X_test,y_test)  \n",
        "print(\"Testing score: \", train_score1)\n",
        "\n",
        "\n",
        "#validation\n",
        "kfold = KFold(n_splits=10, shuffle=True)\n",
        "kf_cv_scores = cross_val_score(xg_reg, X_test, y_test, cv=kfold )\n",
        "print(\"K-fold CV average testing score: \" + str(kf_cv_scores.mean()))\n",
        "\n",
        "#validation\n",
        "kfold_repeat = RepeatedKFold(n_splits=10, n_repeats=3, random_state=1)\n",
        "kf_repeat_cv_scores = cross_val_score(xg_reg, X_test, y_test, cv=kfold_repeat )\n",
        "print(\"K-fold Repeating average testing score:\" + str(kf_repeat_cv_scores.mean()))\n",
        "\n",
        "\n",
        "mse = mean_squared_error(y_test, preds)\n",
        "print(\"MSE: %.2f\" % mse)\n",
        "rmse = np.sqrt(mean_squared_error(y_test, preds))\n",
        "print(\"RMSE: %f\" % (rmse))"
      ],
      "metadata": {
        "id": "gggVKNfqwp4X"
      },
      "execution_count": null,
      "outputs": []
    },
    {
      "cell_type": "code",
      "source": [
        "x_ax = range(len(y_test))\n",
        "plt.plot(x_ax, y_test, label=\"original\")\n",
        "plt.plot(x_ax, preds, label=\"predicted\")\n",
        "plt.title(\"Santa Clara water supply test and predicted data\")\n",
        "plt.legend()\n",
        "plt.show()"
      ],
      "metadata": {
        "id": "6Ky0KOwpv8zP"
      },
      "execution_count": null,
      "outputs": []
    },
    {
      "cell_type": "code",
      "source": [
        "from sklearn.inspection import permutation_importance\n",
        "perm_importance = permutation_importance(xg_reg, X_test, y_test)\n",
        "sorted_idx = perm_importance.importances_mean.argsort()\n",
        "\n",
        "feature_names = np.array(list(df)[0:len(list(df))-1])"
      ],
      "metadata": {
        "id": "SlrYu2VkLr6K"
      },
      "execution_count": null,
      "outputs": []
    },
    {
      "cell_type": "code",
      "source": [
        "perm_importance1 = permutation_importance(xg_reg, X_train, y_train)\n",
        "sorted_idx1 = perm_importance1.importances_mean.argsort()\n",
        "\n",
        "feature_names1 = np.array(list(df)[0:len(list(df))-1])"
      ],
      "metadata": {
        "id": "UvxvhqokJWaf"
      },
      "execution_count": null,
      "outputs": []
    },
    {
      "cell_type": "code",
      "source": [
        "plt.figure(figsize = (8,5))\n",
        "plt.barh(feature_names[sorted_idx], perm_importance.importances_mean[sorted_idx])\n",
        "plt.xlabel(\"Permutation Importance\")"
      ],
      "metadata": {
        "id": "xB7z04tuLsgy"
      },
      "execution_count": null,
      "outputs": []
    },
    {
      "cell_type": "code",
      "source": [
        "plt.figure(figsize = (8,5))\n",
        "plt.barh(feature_names1[sorted_idx], perm_importance1.importances_mean[sorted_idx1])\n",
        "plt.xlabel(\"Permutation Importance\")"
      ],
      "metadata": {
        "id": "Kf_pUqsYLNZG"
      },
      "execution_count": null,
      "outputs": []
    }
  ]
}