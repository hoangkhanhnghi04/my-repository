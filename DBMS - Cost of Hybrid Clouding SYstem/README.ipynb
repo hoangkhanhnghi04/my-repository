{
 "cells": [
  {
   "cell_type": "markdown",
   "metadata": {},
   "source": [
    "# The cost of Database Management System"
   ]
  },
  {
   "cell_type": "markdown",
   "metadata": {},
   "source": [
    "### The process of the implementation:\n",
    "- Calculate the cost of Google Cloud storage (including storage cost and running queries cost)\n",
    "- Calculate the cost of in-house server storage\n",
    "- Show visual graphes for hybrid storage with different fraction of cloud/on-premises storage \n",
    "\n"
   ]
  },
  {
   "cell_type": "markdown",
   "metadata": {},
   "source": [
    "### The attached files include:\n",
    "- A sample input folder name: Gov dataset, insisting of:\n",
    "    + governors_county.csv\n",
    "    + governors_county_candidate.csv\n",
    "    + governors_state.csv\n",
    "    + house_candidate.csv\n",
    "    + house_state.csv <br>\n",
    "    The datasets with the same names are downloaded from: https://www.kaggle.com/unanimad/us-election-2020?select=senate_state.csv <br>\n",
    "    The sample input files are those with 100 lines in each file.\n",
    "    \n",
    "    \n",
    "- Jupyter code file name: cost_analysis.ipynb, including 8 functions:\n",
    "    + cloud_storage_cost(): user inputs the amount of storage (in GB), return the cost (in dollar) to store the dataset in one month on Google Cloud. The unit price is \\\\$0.023/GB/month\n",
    "    + cloud_storage_cost1(x): same as cloud_storage_cost() but no user input\n",
    "    + premises_storage_cost(): user inputs the amount of storage (in GB), return the cost (in dollar) to store the dataset in one month on premises. The unit price is \\\\$0.0427/GB/month\n",
    "    + premises_storage_cost1(x): same as premises_storage_cost() but no user input\n",
    "    + check_file_size(): given a folder or a file path, return the sum of the size of all files in that folder/file (in GB) \n",
    "    + check_number(): given a parameter, return true if it is a number, return false if other.\n",
    "    + hybrid_cost(): user inputs the amount of storage and fraction of amount stored in cloud. Returns the cost of hybrid database system. \n",
    "    + hybrid_cost1(h_amount,frac): same as hybrid_cost() but no user input. The parameters are the amount of storage and fraction of amount stored in cloud.\n",
    "    + hybrid_cost_list(h_amount1, frac_list =[]: return the cost of the hybrid system with any input fraction cloud/on-premises. The parameter is a list of fraction of cloud storage (eg: 0.5), the remaining portion is the on-premise storage\n",
    "    + hybrid_premise_graph(storage_amount, frac_list1 = []): show a bar graph showing the cost of hybrid and on-premises database system with different fraction. The parameters are the storage amount in GB and a list of fraction of cloud storage.\n",
    "    \n",
    "    To run the codes, just need to open jupyter lab, open file cost_analysis.ipynb, call the method with parameters and hit the run button (arrow sign)\n",
    "    \n",
    "- SQL code file\n",
    "    + Query_cost(): Calculates the queries total cost and execution time and returns the query, total cost, execution time. To exectue this query you are able to paste multiple queries and it will order it by the duration time. Put this function in your preferred query tool and create this function. Then to use this function you will need to execute SELECT * FROM query_cost( ARRAY[\"Your Query Goes Here\"]) ORDER BY duration DESC, this will return a table with your query, cost, and exectution time. \n",
    "    + Explain(): This is a in-build funtion in SQL that will return the cost of the query executed. To execute this query you will need to use a query tool that you prefer and execute \"Explain \"Your Query Goes Here\"\". This will return the query and the cost. \n"
   ]
  }
 ],
 "metadata": {
  "kernelspec": {
   "display_name": "Python 3",
   "language": "python",
   "name": "python3"
  },
  "language_info": {
   "codemirror_mode": {
    "name": "ipython",
    "version": 3
   },
   "file_extension": ".py",
   "mimetype": "text/x-python",
   "name": "python",
   "nbconvert_exporter": "python",
   "pygments_lexer": "ipython3",
   "version": "3.8.3"
  }
 },
 "nbformat": 4,
 "nbformat_minor": 4
}
